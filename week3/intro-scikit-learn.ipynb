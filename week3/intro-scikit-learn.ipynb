{
  "nbformat": 4,
  "nbformat_minor": 0,
  "metadata": {
    "colab": {
      "provenance": []
    },
    "kernelspec": {
      "name": "python3",
      "display_name": "Python 3"
    },
    "language_info": {
      "name": "python"
    }
  },
  "cells": [
    {
      "cell_type": "markdown",
      "source": [
        "## Understanding the end-to-end Scikit-Learn workflow\n",
        "The steps required:\n",
        "\n",
        "1. Getting data ready (split into features and labels, prepare train and test steps)\n",
        "2. Choosing a model for our problem\n",
        "3. Fit the model to the data and use it to make a prediction\n",
        "4. Evaluate the model\n",
        "5. Experiment to improve\n",
        "6. Save a model for someone else to use"
      ],
      "metadata": {
        "id": "VhwiI2Ylifp_"
      }
    },
    {
      "cell_type": "markdown",
      "source": [
        "### 1. Import libraries and getting data ready"
      ],
      "metadata": {
        "id": "9d7D6qOjZVJP"
      }
    },
    {
      "cell_type": "code",
      "execution_count": null,
      "metadata": {
        "id": "almEU_P_ZAoI"
      },
      "outputs": [],
      "source": [
        "#import libraries\n",
        "import pandas as pd\n",
        "import os\n",
        "from sklearn.metrics import confusion_matrix"
      ]
    },
    {
      "cell_type": "markdown",
      "source": [],
      "metadata": {
        "id": "t2QWS_ywgmKi"
      }
    },
    {
      "cell_type": "code",
      "source": [
        "link_to_data = 'https://raw.githubusercontent.com/SIT719/2020-S2/master/data/payment_fraud.csv'\n",
        "dfp = pd.read_csv(link_to_data)"
      ],
      "metadata": {
        "id": "plfeeGOKZioB"
      },
      "execution_count": null,
      "outputs": []
    }
  ]
}